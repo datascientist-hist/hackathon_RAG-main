{
 "cells": [
  {
   "cell_type": "code",
   "execution_count": 2,
   "metadata": {},
   "outputs": [],
   "source": [
    "import pandas as pd\n",
    "import os\n",
    "\n",
    "path_df = '../csv_farmaci/Classe_A_per_nome_commerciale_15-12-2023.csv'\n",
    "\n",
    "df = pd.read_csv(path_df, delimiter=';', encoding='latin1')"
   ]
  },
  {
   "cell_type": "code",
   "execution_count": 3,
   "metadata": {},
   "outputs": [
    {
     "data": {
      "text/plain": [
       "Index(['Principio Attivo', 'Descrizione Gruppo', 'Denominazione e Confezione',\n",
       "       'Prezzo al pubblico ', 'Titolare AIC', 'Codice AIC',\n",
       "       'Codice Gruppo Equivalenza',\n",
       "       'X=in lista di trasparenza Aifa 15/12/2023',\n",
       "       'Solo in lista di Regione:', 'Metri cubi ossigeno '],\n",
       "      dtype='object')"
      ]
     },
     "execution_count": 3,
     "metadata": {},
     "output_type": "execute_result"
    }
   ],
   "source": [
    "df.columns"
   ]
  },
  {
   "cell_type": "code",
   "execution_count": 4,
   "metadata": {},
   "outputs": [],
   "source": [
    "columns_to_keep = [\n",
    "    'Principio Attivo', \n",
    "    'Descrizione Gruppo', \n",
    "    'Denominazione e Confezione',\n",
    "    'Prezzo al pubblico ', \n",
    "    'Titolare AIC', \n",
    "    'Codice AIC',\n",
    "    'Codice Gruppo Equivalenza']\n",
    "\n",
    "df_clean = df[columns_to_keep]"
   ]
  },
  {
   "cell_type": "code",
   "execution_count": 5,
   "metadata": {},
   "outputs": [
    {
     "data": {
      "text/html": [
       "<div>\n",
       "<style scoped>\n",
       "    .dataframe tbody tr th:only-of-type {\n",
       "        vertical-align: middle;\n",
       "    }\n",
       "\n",
       "    .dataframe tbody tr th {\n",
       "        vertical-align: top;\n",
       "    }\n",
       "\n",
       "    .dataframe thead th {\n",
       "        text-align: right;\n",
       "    }\n",
       "</style>\n",
       "<table border=\"1\" class=\"dataframe\">\n",
       "  <thead>\n",
       "    <tr style=\"text-align: right;\">\n",
       "      <th></th>\n",
       "      <th>Principio Attivo</th>\n",
       "      <th>Descrizione Gruppo</th>\n",
       "      <th>Denominazione e Confezione</th>\n",
       "      <th>Prezzo al pubblico </th>\n",
       "      <th>Titolare AIC</th>\n",
       "      <th>Codice AIC</th>\n",
       "      <th>Codice Gruppo Equivalenza</th>\n",
       "    </tr>\n",
       "  </thead>\n",
       "  <tbody>\n",
       "    <tr>\n",
       "      <th>0</th>\n",
       "      <td>Insulina glargine</td>\n",
       "      <td>INSULINA GLARGINE 100U/ML 3ML 5 UNITA' USO PAR...</td>\n",
       "      <td>ABASAGLAR*5 cartucce SC 100 U/ml 3 ml</td>\n",
       "      <td>60,69</td>\n",
       "      <td>ELI LILLY NEDERLAND BV</td>\n",
       "      <td>43658032</td>\n",
       "      <td>N4B</td>\n",
       "    </tr>\n",
       "    <tr>\n",
       "      <th>1</th>\n",
       "      <td>Insulina glargine</td>\n",
       "      <td>INSULINA GLARGINE 100U/ML 3ML 5 UNITA' USO PAR...</td>\n",
       "      <td>ABASAGLAR*5 penne preriempite SC 100 U/ml 3 ml</td>\n",
       "      <td>60,69</td>\n",
       "      <td>ELI LILLY NEDERLAND BV</td>\n",
       "      <td>43658121</td>\n",
       "      <td>N4B</td>\n",
       "    </tr>\n",
       "    <tr>\n",
       "      <th>2</th>\n",
       "      <td>Amoxicillina/acido clavulanico</td>\n",
       "      <td>AMOXICILLINA+ACIDO CLAVULANICO 875+125MG 12 UN...</td>\n",
       "      <td>ABBA*12 cpr riv 875 mg + 125 mg</td>\n",
       "      <td>7,90</td>\n",
       "      <td>FIDIA FARMACEUTICI SpA</td>\n",
       "      <td>36816015</td>\n",
       "      <td>CJA</td>\n",
       "    </tr>\n",
       "    <tr>\n",
       "      <th>3</th>\n",
       "      <td>Amoxicillina/acido clavulanico</td>\n",
       "      <td>AMOXICILLINA+ACIDO CLAVULANICO 875+125MG 12 UN...</td>\n",
       "      <td>ABBA*orale polv 12 bust 875 mg + 125 mg</td>\n",
       "      <td>7,90</td>\n",
       "      <td>FIDIA FARMACEUTICI SpA</td>\n",
       "      <td>36816027</td>\n",
       "      <td>CJA</td>\n",
       "    </tr>\n",
       "    <tr>\n",
       "      <th>4</th>\n",
       "      <td>Aripiprazolo</td>\n",
       "      <td>ARIPIPRAZOLO 10MG 28 UNITA' USO ORALE</td>\n",
       "      <td>ABERIPRA*28x1 cpr 10 mg</td>\n",
       "      <td>24,90</td>\n",
       "      <td>ECUPHARMA Srl</td>\n",
       "      <td>44868026</td>\n",
       "      <td>HSA</td>\n",
       "    </tr>\n",
       "    <tr>\n",
       "      <th>...</th>\n",
       "      <td>...</td>\n",
       "      <td>...</td>\n",
       "      <td>...</td>\n",
       "      <td>...</td>\n",
       "      <td>...</td>\n",
       "      <td>...</td>\n",
       "      <td>...</td>\n",
       "    </tr>\n",
       "    <tr>\n",
       "      <th>10278</th>\n",
       "      <td>Olanzapina</td>\n",
       "      <td>OLANZAPINA 10MG 28 UNITA' USO ORALE</td>\n",
       "      <td>ZYPREXA*28 cpr riv 10 mg</td>\n",
       "      <td>133,51</td>\n",
       "      <td>ELI LILLY NEDERLAND BV</td>\n",
       "      <td>33638091</td>\n",
       "      <td>FNC</td>\n",
       "    </tr>\n",
       "    <tr>\n",
       "      <th>10279</th>\n",
       "      <td>Olanzapina</td>\n",
       "      <td>OLANZAPINA 2,5MG 28 UNITA' USO ORALE</td>\n",
       "      <td>ZYPREXA*28 cpr riv 2,5 mg</td>\n",
       "      <td>33,37</td>\n",
       "      <td>ELI LILLY NEDERLAND BV</td>\n",
       "      <td>33638026</td>\n",
       "      <td>FNA</td>\n",
       "    </tr>\n",
       "    <tr>\n",
       "      <th>10280</th>\n",
       "      <td>Olanzapina</td>\n",
       "      <td>OLANZAPINA 5MG 28 UNITA' USO ORALE</td>\n",
       "      <td>ZYPREXA*28 cpr riv 5 mg</td>\n",
       "      <td>66,75</td>\n",
       "      <td>ELI LILLY NEDERLAND BV</td>\n",
       "      <td>33638038</td>\n",
       "      <td>FNB</td>\n",
       "    </tr>\n",
       "    <tr>\n",
       "      <th>10281</th>\n",
       "      <td>Linezolid</td>\n",
       "      <td>LINEZOLID 600MG 10 UNITA' USO ORALE</td>\n",
       "      <td>ZYVOXID*10 cpr riv 600 mg</td>\n",
       "      <td>914,25</td>\n",
       "      <td>PFIZER ITALIA Srl</td>\n",
       "      <td>35410226</td>\n",
       "      <td>BSD</td>\n",
       "    </tr>\n",
       "    <tr>\n",
       "      <th>10282</th>\n",
       "      <td>Linezolid</td>\n",
       "      <td>LINEZOLID 100MG/5ML 1 UNITA' USO ORALE</td>\n",
       "      <td>ZYVOXID*orale grat sosp 100 mg 5 ml</td>\n",
       "      <td>457,12</td>\n",
       "      <td>PFIZER ITALIA Srl</td>\n",
       "      <td>35410075</td>\n",
       "      <td>BSC</td>\n",
       "    </tr>\n",
       "  </tbody>\n",
       "</table>\n",
       "<p>10283 rows × 7 columns</p>\n",
       "</div>"
      ],
      "text/plain": [
       "                     Principio Attivo  \\\n",
       "0                   Insulina glargine   \n",
       "1                   Insulina glargine   \n",
       "2      Amoxicillina/acido clavulanico   \n",
       "3      Amoxicillina/acido clavulanico   \n",
       "4                        Aripiprazolo   \n",
       "...                               ...   \n",
       "10278                      Olanzapina   \n",
       "10279                      Olanzapina   \n",
       "10280                      Olanzapina   \n",
       "10281                       Linezolid   \n",
       "10282                       Linezolid   \n",
       "\n",
       "                                      Descrizione Gruppo  \\\n",
       "0      INSULINA GLARGINE 100U/ML 3ML 5 UNITA' USO PAR...   \n",
       "1      INSULINA GLARGINE 100U/ML 3ML 5 UNITA' USO PAR...   \n",
       "2      AMOXICILLINA+ACIDO CLAVULANICO 875+125MG 12 UN...   \n",
       "3      AMOXICILLINA+ACIDO CLAVULANICO 875+125MG 12 UN...   \n",
       "4                  ARIPIPRAZOLO 10MG 28 UNITA' USO ORALE   \n",
       "...                                                  ...   \n",
       "10278                OLANZAPINA 10MG 28 UNITA' USO ORALE   \n",
       "10279               OLANZAPINA 2,5MG 28 UNITA' USO ORALE   \n",
       "10280                 OLANZAPINA 5MG 28 UNITA' USO ORALE   \n",
       "10281                LINEZOLID 600MG 10 UNITA' USO ORALE   \n",
       "10282             LINEZOLID 100MG/5ML 1 UNITA' USO ORALE   \n",
       "\n",
       "                           Denominazione e Confezione Prezzo al pubblico   \\\n",
       "0               ABASAGLAR*5 cartucce SC 100 U/ml 3 ml                60,69   \n",
       "1      ABASAGLAR*5 penne preriempite SC 100 U/ml 3 ml                60,69   \n",
       "2                     ABBA*12 cpr riv 875 mg + 125 mg                 7,90   \n",
       "3             ABBA*orale polv 12 bust 875 mg + 125 mg                 7,90   \n",
       "4                             ABERIPRA*28x1 cpr 10 mg                24,90   \n",
       "...                                               ...                  ...   \n",
       "10278                        ZYPREXA*28 cpr riv 10 mg               133,51   \n",
       "10279                       ZYPREXA*28 cpr riv 2,5 mg                33,37   \n",
       "10280                         ZYPREXA*28 cpr riv 5 mg                66,75   \n",
       "10281                       ZYVOXID*10 cpr riv 600 mg               914,25   \n",
       "10282             ZYVOXID*orale grat sosp 100 mg 5 ml               457,12   \n",
       "\n",
       "                 Titolare AIC  Codice AIC Codice Gruppo Equivalenza  \n",
       "0      ELI LILLY NEDERLAND BV    43658032                       N4B  \n",
       "1      ELI LILLY NEDERLAND BV    43658121                       N4B  \n",
       "2      FIDIA FARMACEUTICI SpA    36816015                       CJA  \n",
       "3      FIDIA FARMACEUTICI SpA    36816027                       CJA  \n",
       "4               ECUPHARMA Srl    44868026                       HSA  \n",
       "...                       ...         ...                       ...  \n",
       "10278  ELI LILLY NEDERLAND BV    33638091                       FNC  \n",
       "10279  ELI LILLY NEDERLAND BV    33638026                       FNA  \n",
       "10280  ELI LILLY NEDERLAND BV    33638038                       FNB  \n",
       "10281       PFIZER ITALIA Srl    35410226                       BSD  \n",
       "10282       PFIZER ITALIA Srl    35410075                       BSC  \n",
       "\n",
       "[10283 rows x 7 columns]"
      ]
     },
     "execution_count": 5,
     "metadata": {},
     "output_type": "execute_result"
    }
   ],
   "source": [
    "df_clean"
   ]
  },
  {
   "cell_type": "code",
   "execution_count": 11,
   "metadata": {},
   "outputs": [
    {
     "name": "stdout",
     "output_type": "stream",
     "text": [
      "                             Date  Codice AIC  Quantity\n",
      "0      2023-05-27 13:24:27.008693    43347020        17\n",
      "1      2023-05-27 13:24:27.008693    48420350        16\n",
      "2      2023-05-27 13:24:27.008693    39649013        12\n",
      "3      2023-05-27 13:24:27.008693    25212010        11\n",
      "4      2023-05-27 13:24:27.008693    35986090         4\n",
      "...                           ...         ...       ...\n",
      "219595 2024-05-26 13:24:27.008693    37585407         8\n",
      "219596 2024-05-26 13:24:27.008693    38724581         4\n",
      "219597 2024-05-26 13:24:27.008693    49996224         9\n",
      "219598 2024-05-26 13:24:27.008693    38724415        18\n",
      "219599 2024-05-26 13:24:27.008693    32025037        14\n",
      "\n",
      "[219600 rows x 3 columns]\n"
     ]
    }
   ],
   "source": [
    "import pandas as pd\n",
    "import numpy as np\n",
    "from datetime import datetime, timedelta\n",
    "\n",
    "# Assuming df_clean is your DataFrame containing the cleaned data with a \"Codice AIC\" column\n",
    "\n",
    "# Generate synthetic date range for the last year\n",
    "end_date = datetime.now()\n",
    "start_date = end_date - timedelta(days=365)\n",
    "dates = pd.date_range(start=start_date, end=end_date, freq='D')\n",
    "\n",
    "# Create an empty DataFrame to store transaction data\n",
    "transaction_data = {'Date': [], 'Codice AIC': [], 'Quantity': []}\n",
    "\n",
    "\n",
    "# Randomly select products based on unique \"Codice AIC\" values from df_clean\n",
    "products = np.random.choice(df_clean['Codice AIC'].unique().tolist(), 600)  # Adjust size as needed)\n",
    "\n",
    "# Generate daily transaction records for each selected product\n",
    "for date in dates:\n",
    "    for product in products:\n",
    "        quantity_bought = np.random.randint(1, 20)  # Random quantity between 1 and 10\n",
    "        transaction_data['Date'].append(date) \n",
    "        transaction_data['Codice AIC'].append(product) \n",
    "        transaction_data['Quantity'].append(quantity_bought) \n",
    "\n",
    "df_transactions = pd.DataFrame(transaction_data)\n",
    "\n",
    "# Display the transaction DataFrame\n",
    "print(df_transactions)\n"
   ]
  },
  {
   "cell_type": "code",
   "execution_count": 12,
   "metadata": {},
   "outputs": [],
   "source": [
    "df_final = pd.merge(df_transactions, df_clean, on='Codice AIC', how='left')"
   ]
  },
  {
   "cell_type": "code",
   "execution_count": 13,
   "metadata": {},
   "outputs": [
    {
     "data": {
      "text/plain": [
       "Date                          0\n",
       "Codice AIC                    0\n",
       "Quantity                      0\n",
       "Principio Attivo              0\n",
       "Descrizione Gruppo            0\n",
       "Denominazione e Confezione    0\n",
       "Prezzo al pubblico           0\n",
       "Titolare AIC                  0\n",
       "Codice Gruppo Equivalenza     0\n",
       "dtype: int64"
      ]
     },
     "execution_count": 13,
     "metadata": {},
     "output_type": "execute_result"
    }
   ],
   "source": [
    "df_final.isna().sum()"
   ]
  },
  {
   "cell_type": "code",
   "execution_count": 14,
   "metadata": {},
   "outputs": [
    {
     "name": "stderr",
     "output_type": "stream",
     "text": [
      "100%|██████████| 1098/1098 [10:49<00:00,  1.69it/s]"
     ]
    },
    {
     "name": "stdout",
     "output_type": "stream",
     "text": [
      "DataFrame saved to MySQL table 'transactions' in database 'sql8709378' using batch insertion.\n"
     ]
    },
    {
     "name": "stderr",
     "output_type": "stream",
     "text": [
      "\n"
     ]
    }
   ],
   "source": [
    "import pandas as pd\n",
    "from sqlalchemy import create_engine\n",
    "from tqdm import tqdm\n",
    "\n",
    "# Assuming df_transactions is your DataFrame containing transaction data\n",
    "\n",
    "# MySQL connection parameters\n",
    "host = 'sql8.freesqldatabase.com'  # Or your MySQL server IP address\n",
    "port = '3306'  # Default MySQL port\n",
    "user = 'sql8709378'  # MySQL username\n",
    "password = 'pTZ9fzZ2Uk'  # MySQL password\n",
    "database = 'sql8709378'  # MySQL database name\n",
    "\n",
    "# Create SQLAlchemy engine\n",
    "engine = create_engine(f'mysql+mysqlconnector://{user}:{password}@{host}:{port}/{database}')\n",
    "\n",
    "# Save DataFrame to MySQL database table named 'transactions'\n",
    "table_name = 'transactions'\n",
    "batch_size = 200\n",
    "# d Split DataFrame into batches and insert iteratively\n",
    "for i in tqdm(range(0, len(df_final), batch_size)):\n",
    "    df_batch = df_final.iloc[i:i+batch_size]\n",
    "    df_batch.to_sql(table_name, engine, if_exists='append', index=False)\n",
    "\n",
    "# Close the database connection\n",
    "engine.dispose()\n",
    "\n",
    "print(f\"DataFrame saved to MySQL table '{table_name}' in database '{database}' using batch insertion.\")\n"
   ]
  }
 ],
 "metadata": {
  "kernelspec": {
   "display_name": "Python 3",
   "language": "python",
   "name": "python3"
  },
  "language_info": {
   "codemirror_mode": {
    "name": "ipython",
    "version": 3
   },
   "file_extension": ".py",
   "mimetype": "text/x-python",
   "name": "python",
   "nbconvert_exporter": "python",
   "pygments_lexer": "ipython3",
   "version": "3.12.3"
  }
 },
 "nbformat": 4,
 "nbformat_minor": 2
}
